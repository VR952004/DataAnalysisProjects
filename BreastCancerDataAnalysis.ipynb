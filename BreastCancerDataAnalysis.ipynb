{
  "cells": [
    {
      "cell_type": "markdown",
      "metadata": {
        "id": "view-in-github",
        "colab_type": "text"
      },
      "source": [
        "<a href=\"https://colab.research.google.com/github/VR952004/DataAnalysisProjects/blob/main/BreastCancerDataAnalysis.ipynb\" target=\"_parent\"><img src=\"https://colab.research.google.com/assets/colab-badge.svg\" alt=\"Open In Colab\"/></a>"
      ]
    },
    {
      "cell_type": "code",
      "execution_count": null,
      "metadata": {
        "id": "yLOm_raesmzD"
      },
      "outputs": [],
      "source": [
        "import pandas as py\n",
        "import numpy as np\n",
        "import matplotlib.pyplot as plt\n",
        "import seaborn as sns\n",
        "from glob import glob"
      ]
    },
    {
      "cell_type": "code",
      "execution_count": null,
      "metadata": {
        "colab": {
          "base_uri": "https://localhost:8080/"
        },
        "id": "8-4qS3m9xi40",
        "outputId": "e734277b-da46-406b-ef52-b0554b443118"
      },
      "outputs": [
        {
          "output_type": "stream",
          "name": "stdout",
          "text": [
            "Mounted at /content/drive\n"
          ]
        }
      ],
      "source": [
        "from google.colab import drive\n",
        "drive.mount('/content/drive')"
      ]
    },
    {
      "cell_type": "code",
      "execution_count": null,
      "metadata": {
        "id": "PyrpyGSXxyTF"
      },
      "outputs": [],
      "source": [
        "link=f'/content/drive/MyDrive/csv files/breast_cancer_survival.csv'\n",
        "\n",
        "df=py.read_csv(link)"
      ]
    },
    {
      "cell_type": "code",
      "execution_count": null,
      "metadata": {
        "colab": {
          "base_uri": "https://localhost:8080/",
          "height": 397
        },
        "id": "bMt0dnul2CnW",
        "outputId": "ea32c390-3706-484e-dcce-691489d8376d"
      },
      "outputs": [
        {
          "output_type": "execute_result",
          "data": {
            "text/plain": [
              "   Age  Gender  Protein1  Protein2  Protein3  Protein4 Tumour_Stage  \\\n",
              "0   42  FEMALE   0.95256   2.15000  0.007972 -0.048340           II   \n",
              "1   54  FEMALE   0.00000   1.38020 -0.498030 -0.507320           II   \n",
              "2   63  FEMALE  -0.52303   1.76400 -0.370190  0.010815           II   \n",
              "3   78  FEMALE  -0.87618   0.12943 -0.370380  0.132190            I   \n",
              "4   42  FEMALE   0.22611   1.74910 -0.543970 -0.390210           II   \n",
              "\n",
              "                       Histology ER status PR status HER2 status Surgery_type  \\\n",
              "0  Infiltrating Ductal Carcinoma  Positive  Positive    Negative        Other   \n",
              "1  Infiltrating Ductal Carcinoma  Positive  Positive    Negative        Other   \n",
              "2  Infiltrating Ductal Carcinoma  Positive  Positive    Negative   Lumpectomy   \n",
              "3  Infiltrating Ductal Carcinoma  Positive  Positive    Negative        Other   \n",
              "4  Infiltrating Ductal Carcinoma  Positive  Positive    Positive   Lumpectomy   \n",
              "\n",
              "  Date_of_Surgery Date_of_Last_Visit Patient_Status  \n",
              "0       20-May-18          26-Aug-18          Alive  \n",
              "1       26-Apr-18          25-Jan-19           Dead  \n",
              "2       24-Aug-18          08-Apr-20          Alive  \n",
              "3       16-Nov-18          28-Jul-20          Alive  \n",
              "4       12-Dec-18          05-Jan-19          Alive  "
            ],
            "text/html": [
              "\n",
              "  <div id=\"df-79b8002b-aba6-4f83-bde4-f1a947da45a0\" class=\"colab-df-container\">\n",
              "    <div>\n",
              "<style scoped>\n",
              "    .dataframe tbody tr th:only-of-type {\n",
              "        vertical-align: middle;\n",
              "    }\n",
              "\n",
              "    .dataframe tbody tr th {\n",
              "        vertical-align: top;\n",
              "    }\n",
              "\n",
              "    .dataframe thead th {\n",
              "        text-align: right;\n",
              "    }\n",
              "</style>\n",
              "<table border=\"1\" class=\"dataframe\">\n",
              "  <thead>\n",
              "    <tr style=\"text-align: right;\">\n",
              "      <th></th>\n",
              "      <th>Age</th>\n",
              "      <th>Gender</th>\n",
              "      <th>Protein1</th>\n",
              "      <th>Protein2</th>\n",
              "      <th>Protein3</th>\n",
              "      <th>Protein4</th>\n",
              "      <th>Tumour_Stage</th>\n",
              "      <th>Histology</th>\n",
              "      <th>ER status</th>\n",
              "      <th>PR status</th>\n",
              "      <th>HER2 status</th>\n",
              "      <th>Surgery_type</th>\n",
              "      <th>Date_of_Surgery</th>\n",
              "      <th>Date_of_Last_Visit</th>\n",
              "      <th>Patient_Status</th>\n",
              "    </tr>\n",
              "  </thead>\n",
              "  <tbody>\n",
              "    <tr>\n",
              "      <th>0</th>\n",
              "      <td>42</td>\n",
              "      <td>FEMALE</td>\n",
              "      <td>0.95256</td>\n",
              "      <td>2.15000</td>\n",
              "      <td>0.007972</td>\n",
              "      <td>-0.048340</td>\n",
              "      <td>II</td>\n",
              "      <td>Infiltrating Ductal Carcinoma</td>\n",
              "      <td>Positive</td>\n",
              "      <td>Positive</td>\n",
              "      <td>Negative</td>\n",
              "      <td>Other</td>\n",
              "      <td>20-May-18</td>\n",
              "      <td>26-Aug-18</td>\n",
              "      <td>Alive</td>\n",
              "    </tr>\n",
              "    <tr>\n",
              "      <th>1</th>\n",
              "      <td>54</td>\n",
              "      <td>FEMALE</td>\n",
              "      <td>0.00000</td>\n",
              "      <td>1.38020</td>\n",
              "      <td>-0.498030</td>\n",
              "      <td>-0.507320</td>\n",
              "      <td>II</td>\n",
              "      <td>Infiltrating Ductal Carcinoma</td>\n",
              "      <td>Positive</td>\n",
              "      <td>Positive</td>\n",
              "      <td>Negative</td>\n",
              "      <td>Other</td>\n",
              "      <td>26-Apr-18</td>\n",
              "      <td>25-Jan-19</td>\n",
              "      <td>Dead</td>\n",
              "    </tr>\n",
              "    <tr>\n",
              "      <th>2</th>\n",
              "      <td>63</td>\n",
              "      <td>FEMALE</td>\n",
              "      <td>-0.52303</td>\n",
              "      <td>1.76400</td>\n",
              "      <td>-0.370190</td>\n",
              "      <td>0.010815</td>\n",
              "      <td>II</td>\n",
              "      <td>Infiltrating Ductal Carcinoma</td>\n",
              "      <td>Positive</td>\n",
              "      <td>Positive</td>\n",
              "      <td>Negative</td>\n",
              "      <td>Lumpectomy</td>\n",
              "      <td>24-Aug-18</td>\n",
              "      <td>08-Apr-20</td>\n",
              "      <td>Alive</td>\n",
              "    </tr>\n",
              "    <tr>\n",
              "      <th>3</th>\n",
              "      <td>78</td>\n",
              "      <td>FEMALE</td>\n",
              "      <td>-0.87618</td>\n",
              "      <td>0.12943</td>\n",
              "      <td>-0.370380</td>\n",
              "      <td>0.132190</td>\n",
              "      <td>I</td>\n",
              "      <td>Infiltrating Ductal Carcinoma</td>\n",
              "      <td>Positive</td>\n",
              "      <td>Positive</td>\n",
              "      <td>Negative</td>\n",
              "      <td>Other</td>\n",
              "      <td>16-Nov-18</td>\n",
              "      <td>28-Jul-20</td>\n",
              "      <td>Alive</td>\n",
              "    </tr>\n",
              "    <tr>\n",
              "      <th>4</th>\n",
              "      <td>42</td>\n",
              "      <td>FEMALE</td>\n",
              "      <td>0.22611</td>\n",
              "      <td>1.74910</td>\n",
              "      <td>-0.543970</td>\n",
              "      <td>-0.390210</td>\n",
              "      <td>II</td>\n",
              "      <td>Infiltrating Ductal Carcinoma</td>\n",
              "      <td>Positive</td>\n",
              "      <td>Positive</td>\n",
              "      <td>Positive</td>\n",
              "      <td>Lumpectomy</td>\n",
              "      <td>12-Dec-18</td>\n",
              "      <td>05-Jan-19</td>\n",
              "      <td>Alive</td>\n",
              "    </tr>\n",
              "  </tbody>\n",
              "</table>\n",
              "</div>\n",
              "    <div class=\"colab-df-buttons\">\n",
              "\n",
              "  <div class=\"colab-df-container\">\n",
              "    <button class=\"colab-df-convert\" onclick=\"convertToInteractive('df-79b8002b-aba6-4f83-bde4-f1a947da45a0')\"\n",
              "            title=\"Convert this dataframe to an interactive table.\"\n",
              "            style=\"display:none;\">\n",
              "\n",
              "  <svg xmlns=\"http://www.w3.org/2000/svg\" height=\"24px\" viewBox=\"0 -960 960 960\">\n",
              "    <path d=\"M120-120v-720h720v720H120Zm60-500h600v-160H180v160Zm220 220h160v-160H400v160Zm0 220h160v-160H400v160ZM180-400h160v-160H180v160Zm440 0h160v-160H620v160ZM180-180h160v-160H180v160Zm440 0h160v-160H620v160Z\"/>\n",
              "  </svg>\n",
              "    </button>\n",
              "\n",
              "  <style>\n",
              "    .colab-df-container {\n",
              "      display:flex;\n",
              "      gap: 12px;\n",
              "    }\n",
              "\n",
              "    .colab-df-convert {\n",
              "      background-color: #E8F0FE;\n",
              "      border: none;\n",
              "      border-radius: 50%;\n",
              "      cursor: pointer;\n",
              "      display: none;\n",
              "      fill: #1967D2;\n",
              "      height: 32px;\n",
              "      padding: 0 0 0 0;\n",
              "      width: 32px;\n",
              "    }\n",
              "\n",
              "    .colab-df-convert:hover {\n",
              "      background-color: #E2EBFA;\n",
              "      box-shadow: 0px 1px 2px rgba(60, 64, 67, 0.3), 0px 1px 3px 1px rgba(60, 64, 67, 0.15);\n",
              "      fill: #174EA6;\n",
              "    }\n",
              "\n",
              "    .colab-df-buttons div {\n",
              "      margin-bottom: 4px;\n",
              "    }\n",
              "\n",
              "    [theme=dark] .colab-df-convert {\n",
              "      background-color: #3B4455;\n",
              "      fill: #D2E3FC;\n",
              "    }\n",
              "\n",
              "    [theme=dark] .colab-df-convert:hover {\n",
              "      background-color: #434B5C;\n",
              "      box-shadow: 0px 1px 3px 1px rgba(0, 0, 0, 0.15);\n",
              "      filter: drop-shadow(0px 1px 2px rgba(0, 0, 0, 0.3));\n",
              "      fill: #FFFFFF;\n",
              "    }\n",
              "  </style>\n",
              "\n",
              "    <script>\n",
              "      const buttonEl =\n",
              "        document.querySelector('#df-79b8002b-aba6-4f83-bde4-f1a947da45a0 button.colab-df-convert');\n",
              "      buttonEl.style.display =\n",
              "        google.colab.kernel.accessAllowed ? 'block' : 'none';\n",
              "\n",
              "      async function convertToInteractive(key) {\n",
              "        const element = document.querySelector('#df-79b8002b-aba6-4f83-bde4-f1a947da45a0');\n",
              "        const dataTable =\n",
              "          await google.colab.kernel.invokeFunction('convertToInteractive',\n",
              "                                                    [key], {});\n",
              "        if (!dataTable) return;\n",
              "\n",
              "        const docLinkHtml = 'Like what you see? Visit the ' +\n",
              "          '<a target=\"_blank\" href=https://colab.research.google.com/notebooks/data_table.ipynb>data table notebook</a>'\n",
              "          + ' to learn more about interactive tables.';\n",
              "        element.innerHTML = '';\n",
              "        dataTable['output_type'] = 'display_data';\n",
              "        await google.colab.output.renderOutput(dataTable, element);\n",
              "        const docLink = document.createElement('div');\n",
              "        docLink.innerHTML = docLinkHtml;\n",
              "        element.appendChild(docLink);\n",
              "      }\n",
              "    </script>\n",
              "  </div>\n",
              "\n",
              "\n",
              "<div id=\"df-b25f7ebf-de05-412c-9f61-e98f25629fbb\">\n",
              "  <button class=\"colab-df-quickchart\" onclick=\"quickchart('df-b25f7ebf-de05-412c-9f61-e98f25629fbb')\"\n",
              "            title=\"Suggest charts.\"\n",
              "            style=\"display:none;\">\n",
              "\n",
              "<svg xmlns=\"http://www.w3.org/2000/svg\" height=\"24px\"viewBox=\"0 0 24 24\"\n",
              "     width=\"24px\">\n",
              "    <g>\n",
              "        <path d=\"M19 3H5c-1.1 0-2 .9-2 2v14c0 1.1.9 2 2 2h14c1.1 0 2-.9 2-2V5c0-1.1-.9-2-2-2zM9 17H7v-7h2v7zm4 0h-2V7h2v10zm4 0h-2v-4h2v4z\"/>\n",
              "    </g>\n",
              "</svg>\n",
              "  </button>\n",
              "\n",
              "<style>\n",
              "  .colab-df-quickchart {\n",
              "      --bg-color: #E8F0FE;\n",
              "      --fill-color: #1967D2;\n",
              "      --hover-bg-color: #E2EBFA;\n",
              "      --hover-fill-color: #174EA6;\n",
              "      --disabled-fill-color: #AAA;\n",
              "      --disabled-bg-color: #DDD;\n",
              "  }\n",
              "\n",
              "  [theme=dark] .colab-df-quickchart {\n",
              "      --bg-color: #3B4455;\n",
              "      --fill-color: #D2E3FC;\n",
              "      --hover-bg-color: #434B5C;\n",
              "      --hover-fill-color: #FFFFFF;\n",
              "      --disabled-bg-color: #3B4455;\n",
              "      --disabled-fill-color: #666;\n",
              "  }\n",
              "\n",
              "  .colab-df-quickchart {\n",
              "    background-color: var(--bg-color);\n",
              "    border: none;\n",
              "    border-radius: 50%;\n",
              "    cursor: pointer;\n",
              "    display: none;\n",
              "    fill: var(--fill-color);\n",
              "    height: 32px;\n",
              "    padding: 0;\n",
              "    width: 32px;\n",
              "  }\n",
              "\n",
              "  .colab-df-quickchart:hover {\n",
              "    background-color: var(--hover-bg-color);\n",
              "    box-shadow: 0 1px 2px rgba(60, 64, 67, 0.3), 0 1px 3px 1px rgba(60, 64, 67, 0.15);\n",
              "    fill: var(--button-hover-fill-color);\n",
              "  }\n",
              "\n",
              "  .colab-df-quickchart-complete:disabled,\n",
              "  .colab-df-quickchart-complete:disabled:hover {\n",
              "    background-color: var(--disabled-bg-color);\n",
              "    fill: var(--disabled-fill-color);\n",
              "    box-shadow: none;\n",
              "  }\n",
              "\n",
              "  .colab-df-spinner {\n",
              "    border: 2px solid var(--fill-color);\n",
              "    border-color: transparent;\n",
              "    border-bottom-color: var(--fill-color);\n",
              "    animation:\n",
              "      spin 1s steps(1) infinite;\n",
              "  }\n",
              "\n",
              "  @keyframes spin {\n",
              "    0% {\n",
              "      border-color: transparent;\n",
              "      border-bottom-color: var(--fill-color);\n",
              "      border-left-color: var(--fill-color);\n",
              "    }\n",
              "    20% {\n",
              "      border-color: transparent;\n",
              "      border-left-color: var(--fill-color);\n",
              "      border-top-color: var(--fill-color);\n",
              "    }\n",
              "    30% {\n",
              "      border-color: transparent;\n",
              "      border-left-color: var(--fill-color);\n",
              "      border-top-color: var(--fill-color);\n",
              "      border-right-color: var(--fill-color);\n",
              "    }\n",
              "    40% {\n",
              "      border-color: transparent;\n",
              "      border-right-color: var(--fill-color);\n",
              "      border-top-color: var(--fill-color);\n",
              "    }\n",
              "    60% {\n",
              "      border-color: transparent;\n",
              "      border-right-color: var(--fill-color);\n",
              "    }\n",
              "    80% {\n",
              "      border-color: transparent;\n",
              "      border-right-color: var(--fill-color);\n",
              "      border-bottom-color: var(--fill-color);\n",
              "    }\n",
              "    90% {\n",
              "      border-color: transparent;\n",
              "      border-bottom-color: var(--fill-color);\n",
              "    }\n",
              "  }\n",
              "</style>\n",
              "\n",
              "  <script>\n",
              "    async function quickchart(key) {\n",
              "      const quickchartButtonEl =\n",
              "        document.querySelector('#' + key + ' button');\n",
              "      quickchartButtonEl.disabled = true;  // To prevent multiple clicks.\n",
              "      quickchartButtonEl.classList.add('colab-df-spinner');\n",
              "      try {\n",
              "        const charts = await google.colab.kernel.invokeFunction(\n",
              "            'suggestCharts', [key], {});\n",
              "      } catch (error) {\n",
              "        console.error('Error during call to suggestCharts:', error);\n",
              "      }\n",
              "      quickchartButtonEl.classList.remove('colab-df-spinner');\n",
              "      quickchartButtonEl.classList.add('colab-df-quickchart-complete');\n",
              "    }\n",
              "    (() => {\n",
              "      let quickchartButtonEl =\n",
              "        document.querySelector('#df-b25f7ebf-de05-412c-9f61-e98f25629fbb button');\n",
              "      quickchartButtonEl.style.display =\n",
              "        google.colab.kernel.accessAllowed ? 'block' : 'none';\n",
              "    })();\n",
              "  </script>\n",
              "</div>\n",
              "    </div>\n",
              "  </div>\n"
            ]
          },
          "metadata": {},
          "execution_count": 4
        }
      ],
      "source": [
        "df.head()"
      ]
    },
    {
      "cell_type": "code",
      "execution_count": null,
      "metadata": {
        "colab": {
          "base_uri": "https://localhost:8080/"
        },
        "id": "cS97qatj6elP",
        "outputId": "a3962f30-0ce5-4137-a60c-91279cf8625e"
      },
      "outputs": [
        {
          "output_type": "execute_result",
          "data": {
            "text/plain": [
              "Age                    0\n",
              "Gender                 0\n",
              "Protein1               0\n",
              "Protein2               0\n",
              "Protein3               0\n",
              "Protein4               0\n",
              "Tumour_Stage           0\n",
              "Histology              0\n",
              "ER status              0\n",
              "PR status              0\n",
              "HER2 status            0\n",
              "Surgery_type           0\n",
              "Date_of_Surgery        0\n",
              "Date_of_Last_Visit    17\n",
              "Patient_Status        13\n",
              "dtype: int64"
            ]
          },
          "metadata": {},
          "execution_count": 5
        }
      ],
      "source": [
        "df.isnull().sum()"
      ]
    },
    {
      "cell_type": "code",
      "execution_count": null,
      "metadata": {
        "id": "dwHPO9PJ6lkv"
      },
      "outputs": [],
      "source": [
        "df.dropna(inplace=True)   #Dropping the null values"
      ]
    },
    {
      "cell_type": "code",
      "execution_count": null,
      "metadata": {
        "colab": {
          "base_uri": "https://localhost:8080/"
        },
        "id": "5EC7abUu9By6",
        "outputId": "c7aefba6-843e-4f5a-eb32-937206e0d0aa"
      },
      "outputs": [
        {
          "output_type": "execute_result",
          "data": {
            "text/plain": [
              "Age                   0\n",
              "Gender                0\n",
              "Protein1              0\n",
              "Protein2              0\n",
              "Protein3              0\n",
              "Protein4              0\n",
              "Tumour_Stage          0\n",
              "Histology             0\n",
              "ER status             0\n",
              "PR status             0\n",
              "HER2 status           0\n",
              "Surgery_type          0\n",
              "Date_of_Surgery       0\n",
              "Date_of_Last_Visit    0\n",
              "Patient_Status        0\n",
              "dtype: int64"
            ]
          },
          "metadata": {},
          "execution_count": 7
        }
      ],
      "source": [
        "df.isnull().sum()"
      ]
    },
    {
      "cell_type": "code",
      "execution_count": null,
      "metadata": {
        "id": "fSMpFKkn9a3m"
      },
      "outputs": [],
      "source": [
        "#The beginning and ending date of the treatment seem to be irrelevant to detection of breast cancer itself therefore dropping those columns\n",
        "df.drop(columns=[\"Date_of_Surgery\",\"Date_of_Last_Visit\"],axis=1,inplace=True)"
      ]
    },
    {
      "cell_type": "code",
      "execution_count": null,
      "metadata": {
        "colab": {
          "base_uri": "https://localhost:8080/",
          "height": 206
        },
        "id": "2h2MhWWhDCbv",
        "outputId": "2006c4f6-dc96-47a6-d053-4a5173f85070"
      },
      "outputs": [
        {
          "output_type": "execute_result",
          "data": {
            "text/plain": [
              "   Age  Gender  Protein1  Protein2  Protein3  Protein4 Tumour_Stage  \\\n",
              "0   42  FEMALE   0.95256   2.15000  0.007972 -0.048340           II   \n",
              "1   54  FEMALE   0.00000   1.38020 -0.498030 -0.507320           II   \n",
              "2   63  FEMALE  -0.52303   1.76400 -0.370190  0.010815           II   \n",
              "3   78  FEMALE  -0.87618   0.12943 -0.370380  0.132190            I   \n",
              "4   42  FEMALE   0.22611   1.74910 -0.543970 -0.390210           II   \n",
              "\n",
              "                       Histology ER status PR status HER2 status Surgery_type  \\\n",
              "0  Infiltrating Ductal Carcinoma  Positive  Positive    Negative        Other   \n",
              "1  Infiltrating Ductal Carcinoma  Positive  Positive    Negative        Other   \n",
              "2  Infiltrating Ductal Carcinoma  Positive  Positive    Negative   Lumpectomy   \n",
              "3  Infiltrating Ductal Carcinoma  Positive  Positive    Negative        Other   \n",
              "4  Infiltrating Ductal Carcinoma  Positive  Positive    Positive   Lumpectomy   \n",
              "\n",
              "  Patient_Status  \n",
              "0          Alive  \n",
              "1           Dead  \n",
              "2          Alive  \n",
              "3          Alive  \n",
              "4          Alive  "
            ],
            "text/html": [
              "\n",
              "  <div id=\"df-e35bb228-49b4-4876-9d80-226dbba5cf49\" class=\"colab-df-container\">\n",
              "    <div>\n",
              "<style scoped>\n",
              "    .dataframe tbody tr th:only-of-type {\n",
              "        vertical-align: middle;\n",
              "    }\n",
              "\n",
              "    .dataframe tbody tr th {\n",
              "        vertical-align: top;\n",
              "    }\n",
              "\n",
              "    .dataframe thead th {\n",
              "        text-align: right;\n",
              "    }\n",
              "</style>\n",
              "<table border=\"1\" class=\"dataframe\">\n",
              "  <thead>\n",
              "    <tr style=\"text-align: right;\">\n",
              "      <th></th>\n",
              "      <th>Age</th>\n",
              "      <th>Gender</th>\n",
              "      <th>Protein1</th>\n",
              "      <th>Protein2</th>\n",
              "      <th>Protein3</th>\n",
              "      <th>Protein4</th>\n",
              "      <th>Tumour_Stage</th>\n",
              "      <th>Histology</th>\n",
              "      <th>ER status</th>\n",
              "      <th>PR status</th>\n",
              "      <th>HER2 status</th>\n",
              "      <th>Surgery_type</th>\n",
              "      <th>Patient_Status</th>\n",
              "    </tr>\n",
              "  </thead>\n",
              "  <tbody>\n",
              "    <tr>\n",
              "      <th>0</th>\n",
              "      <td>42</td>\n",
              "      <td>FEMALE</td>\n",
              "      <td>0.95256</td>\n",
              "      <td>2.15000</td>\n",
              "      <td>0.007972</td>\n",
              "      <td>-0.048340</td>\n",
              "      <td>II</td>\n",
              "      <td>Infiltrating Ductal Carcinoma</td>\n",
              "      <td>Positive</td>\n",
              "      <td>Positive</td>\n",
              "      <td>Negative</td>\n",
              "      <td>Other</td>\n",
              "      <td>Alive</td>\n",
              "    </tr>\n",
              "    <tr>\n",
              "      <th>1</th>\n",
              "      <td>54</td>\n",
              "      <td>FEMALE</td>\n",
              "      <td>0.00000</td>\n",
              "      <td>1.38020</td>\n",
              "      <td>-0.498030</td>\n",
              "      <td>-0.507320</td>\n",
              "      <td>II</td>\n",
              "      <td>Infiltrating Ductal Carcinoma</td>\n",
              "      <td>Positive</td>\n",
              "      <td>Positive</td>\n",
              "      <td>Negative</td>\n",
              "      <td>Other</td>\n",
              "      <td>Dead</td>\n",
              "    </tr>\n",
              "    <tr>\n",
              "      <th>2</th>\n",
              "      <td>63</td>\n",
              "      <td>FEMALE</td>\n",
              "      <td>-0.52303</td>\n",
              "      <td>1.76400</td>\n",
              "      <td>-0.370190</td>\n",
              "      <td>0.010815</td>\n",
              "      <td>II</td>\n",
              "      <td>Infiltrating Ductal Carcinoma</td>\n",
              "      <td>Positive</td>\n",
              "      <td>Positive</td>\n",
              "      <td>Negative</td>\n",
              "      <td>Lumpectomy</td>\n",
              "      <td>Alive</td>\n",
              "    </tr>\n",
              "    <tr>\n",
              "      <th>3</th>\n",
              "      <td>78</td>\n",
              "      <td>FEMALE</td>\n",
              "      <td>-0.87618</td>\n",
              "      <td>0.12943</td>\n",
              "      <td>-0.370380</td>\n",
              "      <td>0.132190</td>\n",
              "      <td>I</td>\n",
              "      <td>Infiltrating Ductal Carcinoma</td>\n",
              "      <td>Positive</td>\n",
              "      <td>Positive</td>\n",
              "      <td>Negative</td>\n",
              "      <td>Other</td>\n",
              "      <td>Alive</td>\n",
              "    </tr>\n",
              "    <tr>\n",
              "      <th>4</th>\n",
              "      <td>42</td>\n",
              "      <td>FEMALE</td>\n",
              "      <td>0.22611</td>\n",
              "      <td>1.74910</td>\n",
              "      <td>-0.543970</td>\n",
              "      <td>-0.390210</td>\n",
              "      <td>II</td>\n",
              "      <td>Infiltrating Ductal Carcinoma</td>\n",
              "      <td>Positive</td>\n",
              "      <td>Positive</td>\n",
              "      <td>Positive</td>\n",
              "      <td>Lumpectomy</td>\n",
              "      <td>Alive</td>\n",
              "    </tr>\n",
              "  </tbody>\n",
              "</table>\n",
              "</div>\n",
              "    <div class=\"colab-df-buttons\">\n",
              "\n",
              "  <div class=\"colab-df-container\">\n",
              "    <button class=\"colab-df-convert\" onclick=\"convertToInteractive('df-e35bb228-49b4-4876-9d80-226dbba5cf49')\"\n",
              "            title=\"Convert this dataframe to an interactive table.\"\n",
              "            style=\"display:none;\">\n",
              "\n",
              "  <svg xmlns=\"http://www.w3.org/2000/svg\" height=\"24px\" viewBox=\"0 -960 960 960\">\n",
              "    <path d=\"M120-120v-720h720v720H120Zm60-500h600v-160H180v160Zm220 220h160v-160H400v160Zm0 220h160v-160H400v160ZM180-400h160v-160H180v160Zm440 0h160v-160H620v160ZM180-180h160v-160H180v160Zm440 0h160v-160H620v160Z\"/>\n",
              "  </svg>\n",
              "    </button>\n",
              "\n",
              "  <style>\n",
              "    .colab-df-container {\n",
              "      display:flex;\n",
              "      gap: 12px;\n",
              "    }\n",
              "\n",
              "    .colab-df-convert {\n",
              "      background-color: #E8F0FE;\n",
              "      border: none;\n",
              "      border-radius: 50%;\n",
              "      cursor: pointer;\n",
              "      display: none;\n",
              "      fill: #1967D2;\n",
              "      height: 32px;\n",
              "      padding: 0 0 0 0;\n",
              "      width: 32px;\n",
              "    }\n",
              "\n",
              "    .colab-df-convert:hover {\n",
              "      background-color: #E2EBFA;\n",
              "      box-shadow: 0px 1px 2px rgba(60, 64, 67, 0.3), 0px 1px 3px 1px rgba(60, 64, 67, 0.15);\n",
              "      fill: #174EA6;\n",
              "    }\n",
              "\n",
              "    .colab-df-buttons div {\n",
              "      margin-bottom: 4px;\n",
              "    }\n",
              "\n",
              "    [theme=dark] .colab-df-convert {\n",
              "      background-color: #3B4455;\n",
              "      fill: #D2E3FC;\n",
              "    }\n",
              "\n",
              "    [theme=dark] .colab-df-convert:hover {\n",
              "      background-color: #434B5C;\n",
              "      box-shadow: 0px 1px 3px 1px rgba(0, 0, 0, 0.15);\n",
              "      filter: drop-shadow(0px 1px 2px rgba(0, 0, 0, 0.3));\n",
              "      fill: #FFFFFF;\n",
              "    }\n",
              "  </style>\n",
              "\n",
              "    <script>\n",
              "      const buttonEl =\n",
              "        document.querySelector('#df-e35bb228-49b4-4876-9d80-226dbba5cf49 button.colab-df-convert');\n",
              "      buttonEl.style.display =\n",
              "        google.colab.kernel.accessAllowed ? 'block' : 'none';\n",
              "\n",
              "      async function convertToInteractive(key) {\n",
              "        const element = document.querySelector('#df-e35bb228-49b4-4876-9d80-226dbba5cf49');\n",
              "        const dataTable =\n",
              "          await google.colab.kernel.invokeFunction('convertToInteractive',\n",
              "                                                    [key], {});\n",
              "        if (!dataTable) return;\n",
              "\n",
              "        const docLinkHtml = 'Like what you see? Visit the ' +\n",
              "          '<a target=\"_blank\" href=https://colab.research.google.com/notebooks/data_table.ipynb>data table notebook</a>'\n",
              "          + ' to learn more about interactive tables.';\n",
              "        element.innerHTML = '';\n",
              "        dataTable['output_type'] = 'display_data';\n",
              "        await google.colab.output.renderOutput(dataTable, element);\n",
              "        const docLink = document.createElement('div');\n",
              "        docLink.innerHTML = docLinkHtml;\n",
              "        element.appendChild(docLink);\n",
              "      }\n",
              "    </script>\n",
              "  </div>\n",
              "\n",
              "\n",
              "<div id=\"df-243e6dd7-aa94-4ad5-8ca1-d2e1ece9a9ed\">\n",
              "  <button class=\"colab-df-quickchart\" onclick=\"quickchart('df-243e6dd7-aa94-4ad5-8ca1-d2e1ece9a9ed')\"\n",
              "            title=\"Suggest charts.\"\n",
              "            style=\"display:none;\">\n",
              "\n",
              "<svg xmlns=\"http://www.w3.org/2000/svg\" height=\"24px\"viewBox=\"0 0 24 24\"\n",
              "     width=\"24px\">\n",
              "    <g>\n",
              "        <path d=\"M19 3H5c-1.1 0-2 .9-2 2v14c0 1.1.9 2 2 2h14c1.1 0 2-.9 2-2V5c0-1.1-.9-2-2-2zM9 17H7v-7h2v7zm4 0h-2V7h2v10zm4 0h-2v-4h2v4z\"/>\n",
              "    </g>\n",
              "</svg>\n",
              "  </button>\n",
              "\n",
              "<style>\n",
              "  .colab-df-quickchart {\n",
              "      --bg-color: #E8F0FE;\n",
              "      --fill-color: #1967D2;\n",
              "      --hover-bg-color: #E2EBFA;\n",
              "      --hover-fill-color: #174EA6;\n",
              "      --disabled-fill-color: #AAA;\n",
              "      --disabled-bg-color: #DDD;\n",
              "  }\n",
              "\n",
              "  [theme=dark] .colab-df-quickchart {\n",
              "      --bg-color: #3B4455;\n",
              "      --fill-color: #D2E3FC;\n",
              "      --hover-bg-color: #434B5C;\n",
              "      --hover-fill-color: #FFFFFF;\n",
              "      --disabled-bg-color: #3B4455;\n",
              "      --disabled-fill-color: #666;\n",
              "  }\n",
              "\n",
              "  .colab-df-quickchart {\n",
              "    background-color: var(--bg-color);\n",
              "    border: none;\n",
              "    border-radius: 50%;\n",
              "    cursor: pointer;\n",
              "    display: none;\n",
              "    fill: var(--fill-color);\n",
              "    height: 32px;\n",
              "    padding: 0;\n",
              "    width: 32px;\n",
              "  }\n",
              "\n",
              "  .colab-df-quickchart:hover {\n",
              "    background-color: var(--hover-bg-color);\n",
              "    box-shadow: 0 1px 2px rgba(60, 64, 67, 0.3), 0 1px 3px 1px rgba(60, 64, 67, 0.15);\n",
              "    fill: var(--button-hover-fill-color);\n",
              "  }\n",
              "\n",
              "  .colab-df-quickchart-complete:disabled,\n",
              "  .colab-df-quickchart-complete:disabled:hover {\n",
              "    background-color: var(--disabled-bg-color);\n",
              "    fill: var(--disabled-fill-color);\n",
              "    box-shadow: none;\n",
              "  }\n",
              "\n",
              "  .colab-df-spinner {\n",
              "    border: 2px solid var(--fill-color);\n",
              "    border-color: transparent;\n",
              "    border-bottom-color: var(--fill-color);\n",
              "    animation:\n",
              "      spin 1s steps(1) infinite;\n",
              "  }\n",
              "\n",
              "  @keyframes spin {\n",
              "    0% {\n",
              "      border-color: transparent;\n",
              "      border-bottom-color: var(--fill-color);\n",
              "      border-left-color: var(--fill-color);\n",
              "    }\n",
              "    20% {\n",
              "      border-color: transparent;\n",
              "      border-left-color: var(--fill-color);\n",
              "      border-top-color: var(--fill-color);\n",
              "    }\n",
              "    30% {\n",
              "      border-color: transparent;\n",
              "      border-left-color: var(--fill-color);\n",
              "      border-top-color: var(--fill-color);\n",
              "      border-right-color: var(--fill-color);\n",
              "    }\n",
              "    40% {\n",
              "      border-color: transparent;\n",
              "      border-right-color: var(--fill-color);\n",
              "      border-top-color: var(--fill-color);\n",
              "    }\n",
              "    60% {\n",
              "      border-color: transparent;\n",
              "      border-right-color: var(--fill-color);\n",
              "    }\n",
              "    80% {\n",
              "      border-color: transparent;\n",
              "      border-right-color: var(--fill-color);\n",
              "      border-bottom-color: var(--fill-color);\n",
              "    }\n",
              "    90% {\n",
              "      border-color: transparent;\n",
              "      border-bottom-color: var(--fill-color);\n",
              "    }\n",
              "  }\n",
              "</style>\n",
              "\n",
              "  <script>\n",
              "    async function quickchart(key) {\n",
              "      const quickchartButtonEl =\n",
              "        document.querySelector('#' + key + ' button');\n",
              "      quickchartButtonEl.disabled = true;  // To prevent multiple clicks.\n",
              "      quickchartButtonEl.classList.add('colab-df-spinner');\n",
              "      try {\n",
              "        const charts = await google.colab.kernel.invokeFunction(\n",
              "            'suggestCharts', [key], {});\n",
              "      } catch (error) {\n",
              "        console.error('Error during call to suggestCharts:', error);\n",
              "      }\n",
              "      quickchartButtonEl.classList.remove('colab-df-spinner');\n",
              "      quickchartButtonEl.classList.add('colab-df-quickchart-complete');\n",
              "    }\n",
              "    (() => {\n",
              "      let quickchartButtonEl =\n",
              "        document.querySelector('#df-243e6dd7-aa94-4ad5-8ca1-d2e1ece9a9ed button');\n",
              "      quickchartButtonEl.style.display =\n",
              "        google.colab.kernel.accessAllowed ? 'block' : 'none';\n",
              "    })();\n",
              "  </script>\n",
              "</div>\n",
              "    </div>\n",
              "  </div>\n"
            ]
          },
          "metadata": {},
          "execution_count": 9
        }
      ],
      "source": [
        "df.head()"
      ]
    },
    {
      "cell_type": "code",
      "execution_count": null,
      "metadata": {
        "colab": {
          "base_uri": "https://localhost:8080/"
        },
        "id": "tXABnN9PFl53",
        "outputId": "597e4328-7b5e-47d1-e8d4-5a3e7565ce7a"
      },
      "outputs": [
        {
          "output_type": "execute_result",
          "data": {
            "text/plain": [
              "Infiltrating Ductal Carcinoma     224\n",
              "Infiltrating Lobular Carcinoma     81\n",
              "Mucinous Carcinoma                 12\n",
              "Name: Histology, dtype: int64"
            ]
          },
          "metadata": {},
          "execution_count": 10
        }
      ],
      "source": [
        "df.Histology.value_counts()"
      ]
    },
    {
      "cell_type": "markdown",
      "metadata": {
        "id": "aB1cvWqGSSxG"
      },
      "source": [
        "**Understanding the various terms in the data frame:**\n",
        "\n",
        "1) Histology is the study of microscopic structure of tissues.There are currently three different histologies mention in our dataset, this means that the histology in this case is the analysis of cellular and chemical properties of the cells which are suspicious of being breast tumors.\n",
        "\n",
        "1.   Infiltrating Ductal Carcinoma is a type of breast cancer that starts in the milk ducts of the breast and moves into nearby tissue.\n",
        "2.   Infiltrating Lobular Carcinoma is the type breast cancer that starts in the milk-producing gland, or lobules and has spread into surrounding breast tissue.\n",
        "3. Mucinous Carcinoma is generally a rare type of cancer which starts from the main cells of mucus. This type is often less aggressive than the other types\n",
        "\n",
        "2) Two hormones Estrogen and Progesterone are present in a female, for cells to use these hormones they require a receptor for each of these hormones. So these tests help the doctors know whether the cancer cells contain these receptors or not, which in-turn tells if the cancer cells are using these hormones for their growth or not. In this case, medicatioin can be provided which will lower the hormone level or stop the hormone from fueling the cancer growth.\n",
        "\n",
        "3)HER2 is a gene. This gene produces a protein called HER2 which causes the growth of cells faster, thus a positive HER2 means that the rate of growth of the cancer cells is rapid.\n",
        "\n",
        "\n"
      ]
    },
    {
      "cell_type": "code",
      "execution_count": null,
      "metadata": {
        "colab": {
          "base_uri": "https://localhost:8080/"
        },
        "id": "2kqnV20xsLxQ",
        "outputId": "71e97b44-271a-46c7-aa9b-97a06163e959"
      },
      "outputs": [
        {
          "output_type": "stream",
          "name": "stdout",
          "text": [
            "Mean age: 58.72555205047318\n",
            "Median age: 58.0\n",
            "Mode age: 0    59\n",
            "Name: Age, dtype: int64\n"
          ]
        }
      ],
      "source": [
        "print('Mean age:',df.Age.mean())\n",
        "print('Median age:',df.Age.median())\n",
        "print('Mode age:',df.Age.mode())"
      ]
    },
    {
      "cell_type": "code",
      "execution_count": null,
      "metadata": {
        "colab": {
          "base_uri": "https://localhost:8080/",
          "height": 452
        },
        "id": "coLWP_9t_qQ_",
        "outputId": "8105e62b-9c0b-4f8f-e4c1-cdeb4d78343b"
      },
      "outputs": [
        {
          "output_type": "display_data",
          "data": {
            "text/plain": [
              "<Figure size 640x480 with 1 Axes>"
            ],
            "image/png": "[encoded data removed]"
          },
          "metadata": {}
        }
      ],
      "source": [
        "#Visulaizing the distribution of age of the patients\n",
        "\n",
        "vis1=df.query('Age > 0')[\"Age\"]\n",
        "\n",
        "bins=[20,30,40,50,60,70,80,90]\n",
        "\n",
        "vis1.plot(\n",
        "    kind=\"hist\", bins=bins, title=\"Distribution of Age of patients\", edgecolor='white'\n",
        ")\n",
        "plt.show()"
      ]
    },
    {
      "cell_type": "markdown",
      "metadata": {
        "id": "ONNh9ZzgrjZy"
      },
      "source": [
        "In the above Histogram we can observe a no skew distribution, we can even see the same from the calculations above the distributon."
      ]
    },
    {
      "cell_type": "code",
      "source": [
        "vis2=df[\"Gender\"].value_counts(ascending=True)\n",
        "\n",
        "vis2 = df[\"Gender\"].value_counts(ascending=True)\n",
        "labels = vis2.index\n",
        "\n",
        "vis2.plot(\n",
        "    kind=\"pie\", figsize=(10, 5), title=\"Distribution of the gender of breast cancer patients\",colors=[\"cyan\", \"pink\"],autopct='%0.3f%%',\n",
        ")\n",
        "plt.legend().set_visible(False)\n",
        "\n",
        "plt.show()"
      ],
      "metadata": {
        "colab": {
          "base_uri": "https://localhost:8080/",
          "height": 444
        },
        "id": "8oDblQnylqNn",
        "outputId": "b71d9a00-5a5a-4f82-8588-68fc19316ea8"
      },
      "execution_count": null,
      "outputs": [
        {
          "output_type": "display_data",
          "data": {
            "text/plain": [
              "<Figure size 1000x500 with 1 Axes>"
            ],
            "image/png": "[encoded data removed]"
          },
          "metadata": {}
        }
      ]
    },
    {
      "cell_type": "markdown",
      "source": [
        "This pie chart shows that breast cancer is very rare in males."
      ],
      "metadata": {
        "id": "6T5Aext23kOE"
      }
    },
    {
      "cell_type": "code",
      "execution_count": null,
      "metadata": {
        "colab": {
          "base_uri": "https://localhost:8080/",
          "height": 444
        },
        "id": "k8GEXA0bqGR7",
        "outputId": "8967a287-3883-4fe0-ba9b-fe4619650284"
      },
      "outputs": [
        {
          "output_type": "display_data",
          "data": {
            "text/plain": [
              "<Figure size 1000x500 with 1 Axes>"
            ],
            "image/png": "[encoded data removed]"
          },
          "metadata": {}
        }
      ],
      "source": [
        "vis3=df[\"Histology\"].value_counts(ascending=True)\n",
        "vis3.plot(\n",
        "    kind=\"pie\", figsize=(10, 5), title=\"Distribution of the patients affected by the different types of breast cancer\",colors=[\"yellow\", \"orange\", \"royalblue\"],autopct='%0.3f%%'\n",
        ")\n",
        "plt.show()\n"
      ]
    },
    {
      "cell_type": "markdown",
      "metadata": {
        "id": "sBzxIC55ylb-"
      },
      "source": [
        "This pie chart shows that majority of the patients are affected with Infiltrating Ductal Carcinoma."
      ]
    },
    {
      "cell_type": "code",
      "execution_count": null,
      "metadata": {
        "colab": {
          "base_uri": "https://localhost:8080/",
          "height": 444
        },
        "id": "lhK4NrP6x-TR",
        "outputId": "c4116b9c-d410-4bf2-c5ae-15b04e11a20f"
      },
      "outputs": [
        {
          "output_type": "display_data",
          "data": {
            "text/plain": [
              "<Figure size 1000x500 with 1 Axes>"
            ],
            "image/png": "[encoded data removed]"
          },
          "metadata": {}
        }
      ],
      "source": [
        "vis4=df[\"Tumour_Stage\"].value_counts(ascending=True)\n",
        "vis4.plot(\n",
        "    kind=\"pie\", figsize=(10, 5), title=\"Distribution of the patients affected by different stages of tumour\",colors=[\"purple\", \"pink\", \"lightblue\"],autopct='%0.3f%%'\n",
        ")\n",
        "plt.show()"
      ]
    },
    {
      "cell_type": "markdown",
      "metadata": {
        "id": "4H3fcCzmy1pU"
      },
      "source": [
        "This pie chart shows that majority of the patients have detected the cancer much later than when it began, thats why there is a higher percentage of patients in stage II or III of their tumour.Thankfully majority the patients were able to detect the tumour before it was too late (i.e. in stage II instead of III)"
      ]
    },
    {
      "cell_type": "code",
      "execution_count": null,
      "metadata": {
        "colab": {
          "base_uri": "https://localhost:8080/"
        },
        "id": "lJyrv2kGWlK4",
        "outputId": "cd1d83b2-893a-4159-a8c2-dc9d8b8299e8"
      },
      "outputs": [
        {
          "output_type": "stream",
          "name": "stdout",
          "text": [
            "Histology                       ER status\n",
            "Infiltrating Ductal Carcinoma   Positive     1.0\n",
            "Infiltrating Lobular Carcinoma  Positive     1.0\n",
            "Mucinous Carcinoma              Positive     1.0\n",
            "Name: ER status, dtype: float64 \n",
            "\n",
            "Histology                       PR status\n",
            "Infiltrating Ductal Carcinoma   Positive     1.0\n",
            "Infiltrating Lobular Carcinoma  Positive     1.0\n",
            "Mucinous Carcinoma              Positive     1.0\n",
            "Name: PR status, dtype: float64 \n",
            "\n",
            "Histology                       HER2 status\n",
            "Infiltrating Ductal Carcinoma   Negative       0.906250\n",
            "                                Positive       0.093750\n",
            "Infiltrating Lobular Carcinoma  Negative       0.913580\n",
            "                                Positive       0.086420\n",
            "Mucinous Carcinoma              Negative       0.916667\n",
            "                                Positive       0.083333\n",
            "Name: HER2 status, dtype: float64 \n",
            "\n"
          ]
        }
      ],
      "source": [
        "er=df.groupby('Histology')['ER status'].value_counts(normalize=True)\n",
        "print(er,\"\\n\")\n",
        "\n",
        "pr=df.groupby('Histology')['PR status'].value_counts(normalize=True)\n",
        "print(pr,\"\\n\")\n",
        "\n",
        "her2=df.groupby('Histology')['HER2 status'].value_counts(normalize=True)\n",
        "print(her2,\"\\n\")"
      ]
    },
    {
      "cell_type": "code",
      "execution_count": null,
      "metadata": {
        "colab": {
          "base_uri": "https://localhost:8080/",
          "height": 452
        },
        "id": "9oQKJAwpbvVt",
        "outputId": "7af88af8-ba97-40f2-f52f-43c0ee39d065"
      },
      "outputs": [
        {
          "output_type": "display_data",
          "data": {
            "text/plain": [
              "<Figure size 640x480 with 2 Axes>"
            ],
            "image/png": "[encoded data removed]"
          },
          "metadata": {}
        }
      ],
      "source": [
        "Index=['ER Status','PR status','HER2 Status']\n",
        "\n",
        "df1=py.DataFrame({'Ductal':[1,1,0.09375000] , 'Lobular':[1,1,0.08641975] , 'Mucinous':[1,1,0.08333333]}\n",
        "                 ,index=Index)\n",
        "\n",
        "sns.heatmap(df1, annot=True , cmap='crest')\n",
        "\n",
        "plt.xticks(rotation=0)\n",
        "plt.yticks(rotation=0)\n",
        "plt.title(\"Test positivity rate to the respective Histology\")\n",
        "\n",
        "plt.show()"
      ]
    },
    {
      "cell_type": "markdown",
      "source": [
        "This heat map indicates that for cancer to occur the ER and PR tests have to be positive. Which means that the tumour cells have the respective rececptors and thus the hormone treatment can be given to all of the patients. But not all patients that have detected cancer have tested positive for the HER2 test. This is because HER2 is a gene and it may or may not be present in the patient, therefore there are patients that haven't tested positive for this test. Furthermore, we can say that the HER2 gene is rare thereby showing only a small percentage of the patients testing positive for it.   "
      ],
      "metadata": {
        "id": "wNJaIU7pnQqp"
      }
    },
    {
      "cell_type": "code",
      "execution_count": null,
      "metadata": {
        "colab": {
          "base_uri": "https://localhost:8080/"
        },
        "id": "PiImnxw4WkX3",
        "outputId": "4e31a292-9db8-45e8-fd47-650d87345443"
      },
      "outputs": [
        {
          "output_type": "stream",
          "name": "stdout",
          "text": [
            "Histology\n",
            "Infiltrating Ductal Carcinoma    -0.044289\n",
            "Infiltrating Lobular Carcinoma   -0.009892\n",
            "Mucinous Carcinoma                0.174120\n",
            "Name: Protein1, dtype: float64 \n",
            "\n",
            "Histology\n",
            "Infiltrating Ductal Carcinoma     0.926194\n",
            "Infiltrating Lobular Carcinoma    1.053536\n",
            "Mucinous Carcinoma                0.683807\n",
            "Name: Protein2, dtype: float64 \n",
            "\n",
            "Histology\n",
            "Infiltrating Ductal Carcinoma    -0.075366\n",
            "Infiltrating Lobular Carcinoma   -0.176218\n",
            "Mucinous Carcinoma                0.083965\n",
            "Name: Protein3, dtype: float64 \n",
            "\n",
            "Histology\n",
            "Infiltrating Ductal Carcinoma     0.007008\n",
            "Infiltrating Lobular Carcinoma   -0.016640\n",
            "Mucinous Carcinoma                0.158838\n",
            "Name: Protein4, dtype: float64 \n",
            "\n"
          ]
        }
      ],
      "source": [
        "prot_1=df.groupby('Histology')['Protein1'].mean()\n",
        "print(prot_1,\"\\n\")\n",
        "\n",
        "prot_2=df.groupby('Histology')['Protein2'].mean()\n",
        "print(prot_2,\"\\n\")\n",
        "\n",
        "prot_3=df.groupby('Histology')['Protein3'].mean()\n",
        "print(prot_3,\"\\n\")\n",
        "\n",
        "prot_4=df.groupby('Histology')['Protein4'].mean()\n",
        "print(prot_4,\"\\n\")\n"
      ]
    },
    {
      "cell_type": "code",
      "execution_count": null,
      "metadata": {
        "colab": {
          "base_uri": "https://localhost:8080/",
          "height": 452
        },
        "id": "HpEfq76jql8_",
        "outputId": "b193d112-e4eb-4dfb-b7d3-24539c0fe079"
      },
      "outputs": [
        {
          "output_type": "display_data",
          "data": {
            "text/plain": [
              "<Figure size 640x480 with 2 Axes>"
            ],
            "image/png": "[encoded data removed]"
          },
          "metadata": {}
        }
      ],
      "source": [
        "Index=['Protein1','Protein2','Protein2','Protein4']\n",
        "\n",
        "df2=py.DataFrame({'Ductal':[-0.044289,0.926194,0.075366,0.007008] , 'Lobular':[-0.009892,1.053536,-0.176218,-0.016640] , 'Mucinous':[0.174120,0.174120,0.083965,0.158838]}\n",
        "                 ,index=Index)\n",
        "\n",
        "sns.heatmap(df2, annot=True , cmap='flare')\n",
        "\n",
        "plt.xticks(rotation=0)\n",
        "plt.yticks(rotation=0)\n",
        "plt.title(\"Composition of Proteins for the respective Histology\")\n",
        "\n",
        "plt.show()"
      ]
    },
    {
      "cell_type": "markdown",
      "metadata": {
        "id": "PzL7QN-g84_y"
      },
      "source": [
        "Therefore, from the above heatmap we can say that Infiltrating Ductal Carcinoma and Infiltrating Lobular Carcinoma occurs due to the increase in Protein 2. Mucinous Carcinoma occurs due to the increase in Protien 3."
      ]
    },
    {
      "cell_type": "markdown",
      "metadata": {
        "id": "jNf8Ue-GEibF"
      },
      "source": [
        "Similarly, we can find the correlation between the stage of the tumour and the status of the patient if they are alive or dead."
      ]
    },
    {
      "cell_type": "code",
      "execution_count": null,
      "metadata": {
        "colab": {
          "base_uri": "https://localhost:8080/",
          "height": 175
        },
        "id": "548aNqDrE0cM",
        "outputId": "42e6db83-8a92-4d85-ba70-b62615003090"
      },
      "outputs": [
        {
          "output_type": "execute_result",
          "data": {
            "text/plain": [
              "<pandas.io.formats.style.Styler at 0x7db687024d00>"
            ],
            "text/html": [
              "<style type=\"text/css\">\n",
              "#T_ce8e1_row0_col0 {\n",
              "  background-color: #3f8fc5;\n",
              "  color: #f1f1f1;\n",
              "}\n",
              "#T_ce8e1_row0_col1 {\n",
              "  background-color: #a1cbe2;\n",
              "  color: #000000;\n",
              "}\n",
              "#T_ce8e1_row1_col0, #T_ce8e1_row2_col1 {\n",
              "  background-color: #08306b;\n",
              "  color: #f1f1f1;\n",
              "}\n",
              "#T_ce8e1_row1_col1, #T_ce8e1_row2_col0 {\n",
              "  background-color: #f7fbff;\n",
              "  color: #000000;\n",
              "}\n",
              "</style>\n",
              "<table id=\"T_ce8e1\" class=\"dataframe\">\n",
              "  <thead>\n",
              "    <tr>\n",
              "      <th class=\"index_name level0\" >Patient_Status</th>\n",
              "      <th id=\"T_ce8e1_level0_col0\" class=\"col_heading level0 col0\" >Alive</th>\n",
              "      <th id=\"T_ce8e1_level0_col1\" class=\"col_heading level0 col1\" >Dead</th>\n",
              "    </tr>\n",
              "    <tr>\n",
              "      <th class=\"index_name level0\" >Histology</th>\n",
              "      <th class=\"blank col0\" >&nbsp;</th>\n",
              "      <th class=\"blank col1\" >&nbsp;</th>\n",
              "    </tr>\n",
              "  </thead>\n",
              "  <tbody>\n",
              "    <tr>\n",
              "      <th id=\"T_ce8e1_level0_row0\" class=\"row_heading level0 row0\" >Infiltrating Ductal Carcinoma</th>\n",
              "      <td id=\"T_ce8e1_row0_col0\" class=\"data row0 col0\" >79.910714</td>\n",
              "      <td id=\"T_ce8e1_row0_col1\" class=\"data row0 col1\" >20.089286</td>\n",
              "    </tr>\n",
              "    <tr>\n",
              "      <th id=\"T_ce8e1_level0_row1\" class=\"row_heading level0 row1\" >Infiltrating Lobular Carcinoma</th>\n",
              "      <td id=\"T_ce8e1_row1_col0\" class=\"data row1 col0\" >82.716049</td>\n",
              "      <td id=\"T_ce8e1_row1_col1\" class=\"data row1 col1\" >17.283951</td>\n",
              "    </tr>\n",
              "    <tr>\n",
              "      <th id=\"T_ce8e1_level0_row2\" class=\"row_heading level0 row2\" >Mucinous Carcinoma</th>\n",
              "      <td id=\"T_ce8e1_row2_col0\" class=\"data row2 col0\" >75.000000</td>\n",
              "      <td id=\"T_ce8e1_row2_col1\" class=\"data row2 col1\" >25.000000</td>\n",
              "    </tr>\n",
              "  </tbody>\n",
              "</table>\n"
            ]
          },
          "metadata": {},
          "execution_count": 19
        }
      ],
      "source": [
        "df_agg = df.groupby(\"Histology\")[\"Patient_Status\"].value_counts(normalize=True).unstack() * 100\n",
        "col_order = [\"Alive\", \"Dead\"]\n",
        "df_agg[col_order].style.background_gradient(cmap=\"Blues\")"
      ]
    },
    {
      "cell_type": "markdown",
      "metadata": {
        "id": "-pvkHhAfGl6o"
      },
      "source": [
        "This shows that majority of the patients have recovered and are still alive. Out of all the different types of breast cancer, Mucinous Carcinoma seems to be more fatal than the other two, followed by Ductal Carcinoma."
      ]
    },
    {
      "cell_type": "code",
      "execution_count": null,
      "metadata": {
        "colab": {
          "base_uri": "https://localhost:8080/"
        },
        "id": "0MlOrT3TUCwB",
        "outputId": "1b24aca1-42db-4648-896c-43a393341053"
      },
      "outputs": [
        {
          "output_type": "execute_result",
          "data": {
            "text/plain": [
              "Other                          97\n",
              "Modified Radical Mastectomy    89\n",
              "Lumpectomy                     66\n",
              "Simple Mastectomy              65\n",
              "Name: Surgery_type, dtype: int64"
            ]
          },
          "metadata": {},
          "execution_count": 20
        }
      ],
      "source": [
        "df['Surgery_type'].value_counts()"
      ]
    },
    {
      "cell_type": "code",
      "execution_count": null,
      "metadata": {
        "colab": {
          "base_uri": "https://localhost:8080/",
          "height": 444
        },
        "id": "sEFcJ1HbVYOG",
        "outputId": "15fcfaec-2bca-4dd3-8945-41e9d177fbb2"
      },
      "outputs": [
        {
          "output_type": "display_data",
          "data": {
            "text/plain": [
              "<Figure size 1000x500 with 1 Axes>"
            ],
            "image/png": "[encoded data removed]"
          },
          "metadata": {}
        }
      ],
      "source": [
        "vis4=df[\"Surgery_type\"].value_counts(ascending=True)\n",
        "vis4.plot(\n",
        "    kind=\"pie\", figsize=(10, 5), title=\"Distribution of the types of Surgeries conducted\",colors=[\"yellow\", \"red\", \"lightblue\",\"green\"],autopct='%0.3f%%'\n",
        ")\n",
        "plt.show()"
      ]
    },
    {
      "cell_type": "code",
      "source": [
        "lump=df.groupby('Histology')['Surgery_type'].value_counts(normalize=True)*100\n",
        "print(lump,\"\\n\")"
      ],
      "metadata": {
        "colab": {
          "base_uri": "https://localhost:8080/"
        },
        "id": "3QS4ndSIMU0T",
        "outputId": "aeebc3ed-5a8e-4210-eef2-a1e24b11457b"
      },
      "execution_count": null,
      "outputs": [
        {
          "output_type": "stream",
          "name": "stdout",
          "text": [
            "Histology                       Surgery_type               \n",
            "Infiltrating Ductal Carcinoma   Other                          29.464286\n",
            "                                Modified Radical Mastectomy    27.232143\n",
            "                                Simple Mastectomy              21.875000\n",
            "                                Lumpectomy                     21.428571\n",
            "Infiltrating Lobular Carcinoma  Other                          38.271605\n",
            "                                Modified Radical Mastectomy    28.395062\n",
            "                                Simple Mastectomy              17.283951\n",
            "                                Lumpectomy                     16.049383\n",
            "Mucinous Carcinoma              Lumpectomy                     41.666667\n",
            "                                Modified Radical Mastectomy    41.666667\n",
            "                                Simple Mastectomy              16.666667\n",
            "Name: Surgery_type, dtype: float64 \n",
            "\n"
          ]
        }
      ]
    },
    {
      "cell_type": "code",
      "source": [
        "Index=['Lumpectomy','Simple Mastectomy','Radical Mastectomy','Other']\n",
        "\n",
        "df3=py.DataFrame({'Ductal':[21.428571,21.875000,27.232143,29.464286] , 'Lobular':[16.049383,17.283951,28.395062,38.271605] , 'Mucinous':[41.666667,16.666667,41.666667,0]}\n",
        "                 ,index=Index)\n",
        "\n",
        "sns.heatmap(df3, annot=True , cmap='magma',fmt='.4g')\n",
        "\n",
        "plt.xticks(rotation=0)\n",
        "plt.yticks(rotation=0)\n",
        "plt.title(\"Type of Surgery preferred for the respective tumour type\")\n",
        "\n",
        "plt.show()"
      ],
      "metadata": {
        "colab": {
          "base_uri": "https://localhost:8080/",
          "height": 452
        },
        "id": "j-16_akhNp2J",
        "outputId": "a3530d9a-020f-4c47-a1fd-cceee0550602"
      },
      "execution_count": null,
      "outputs": [
        {
          "output_type": "display_data",
          "data": {
            "text/plain": [
              "<Figure size 640x480 with 2 Axes>"
            ],
            "image/png": "[encoded data removed]"
          },
          "metadata": {}
        }
      ]
    },
    {
      "cell_type": "markdown",
      "source": [
        "We can see the different types of breast cancer prefers different type of surgery.\n",
        "\n",
        "* Ductal Carcinoma prefers Modified Radical Mastectomy and Other type of surgery.\n",
        "\n",
        "* Lobular Carcinoma also prefers Modified Radical Mastectomy and Other type of surgery.\n",
        "\n",
        "* Whereas Mucinous Carcinoma prefers Lumpectomy and Modified Radical Mastectomy."
      ],
      "metadata": {
        "id": "R3m5Lcv1W8zK"
      }
    },
    {
      "cell_type": "code",
      "execution_count": null,
      "metadata": {
        "colab": {
          "base_uri": "https://localhost:8080/",
          "height": 206
        },
        "id": "iR5zdFH_WGwH",
        "outputId": "da0c99a3-31bb-4632-dae5-bb7a1385474e"
      },
      "outputs": [
        {
          "output_type": "execute_result",
          "data": {
            "text/plain": [
              "<pandas.io.formats.style.Styler at 0x7db689b68340>"
            ],
            "text/html": [
              "<style type=\"text/css\">\n",
              "#T_29bd8_row0_col0, #T_29bd8_row2_col1 {\n",
              "  background-color: #3f007d;\n",
              "  color: #f1f1f1;\n",
              "}\n",
              "#T_29bd8_row0_col1, #T_29bd8_row2_col0 {\n",
              "  background-color: #fcfbfd;\n",
              "  color: #000000;\n",
              "}\n",
              "#T_29bd8_row1_col0 {\n",
              "  background-color: #9c98c7;\n",
              "  color: #f1f1f1;\n",
              "}\n",
              "#T_29bd8_row1_col1 {\n",
              "  background-color: #a09dca;\n",
              "  color: #f1f1f1;\n",
              "}\n",
              "#T_29bd8_row3_col0 {\n",
              "  background-color: #8e8bc1;\n",
              "  color: #f1f1f1;\n",
              "}\n",
              "#T_29bd8_row3_col1 {\n",
              "  background-color: #aeacd2;\n",
              "  color: #000000;\n",
              "}\n",
              "</style>\n",
              "<table id=\"T_29bd8\" class=\"dataframe\">\n",
              "  <thead>\n",
              "    <tr>\n",
              "      <th class=\"index_name level0\" >Patient_Status</th>\n",
              "      <th id=\"T_29bd8_level0_col0\" class=\"col_heading level0 col0\" >Alive</th>\n",
              "      <th id=\"T_29bd8_level0_col1\" class=\"col_heading level0 col1\" >Dead</th>\n",
              "    </tr>\n",
              "    <tr>\n",
              "      <th class=\"index_name level0\" >Surgery_type</th>\n",
              "      <th class=\"blank col0\" >&nbsp;</th>\n",
              "      <th class=\"blank col1\" >&nbsp;</th>\n",
              "    </tr>\n",
              "  </thead>\n",
              "  <tbody>\n",
              "    <tr>\n",
              "      <th id=\"T_29bd8_level0_row0\" class=\"row_heading level0 row0\" >Lumpectomy</th>\n",
              "      <td id=\"T_29bd8_row0_col0\" class=\"data row0 col0\" >86.363636</td>\n",
              "      <td id=\"T_29bd8_row0_col1\" class=\"data row0 col1\" >13.636364</td>\n",
              "    </tr>\n",
              "    <tr>\n",
              "      <th id=\"T_29bd8_level0_row1\" class=\"row_heading level0 row1\" >Modified Radical Mastectomy</th>\n",
              "      <td id=\"T_29bd8_row1_col0\" class=\"data row1 col0\" >80.898876</td>\n",
              "      <td id=\"T_29bd8_row1_col1\" class=\"data row1 col1\" >19.101124</td>\n",
              "    </tr>\n",
              "    <tr>\n",
              "      <th id=\"T_29bd8_level0_row2\" class=\"row_heading level0 row2\" >Other</th>\n",
              "      <td id=\"T_29bd8_row2_col0\" class=\"data row2 col0\" >75.257732</td>\n",
              "      <td id=\"T_29bd8_row2_col1\" class=\"data row2 col1\" >24.742268</td>\n",
              "    </tr>\n",
              "    <tr>\n",
              "      <th id=\"T_29bd8_level0_row3\" class=\"row_heading level0 row3\" >Simple Mastectomy</th>\n",
              "      <td id=\"T_29bd8_row3_col0\" class=\"data row3 col0\" >81.538462</td>\n",
              "      <td id=\"T_29bd8_row3_col1\" class=\"data row3 col1\" >18.461538</td>\n",
              "    </tr>\n",
              "  </tbody>\n",
              "</table>\n"
            ]
          },
          "metadata": {},
          "execution_count": 22
        }
      ],
      "source": [
        "df_agg = df.groupby(\"Surgery_type\")[\"Patient_Status\"].value_counts(normalize=True).unstack() * 100\n",
        "col_order = [\"Alive\", \"Dead\"]\n",
        "df_agg[col_order].style.background_gradient(cmap=\"Purples\")"
      ]
    },
    {
      "cell_type": "markdown",
      "metadata": {
        "id": "9X6AKbwhYXZ6"
      },
      "source": [
        "The pie chart shows that the surgery type are fairly equally distributed. But from the heatmap we can say that other surgery types are more successful than the \"Other\" surgery type. Out of which Lumpectomy has the highest success rate out all the surgey types."
      ]
    },
    {
      "cell_type": "markdown",
      "metadata": {
        "id": "Ee32v25h3aoF"
      },
      "source": [
        "Now to summarize the conclusions made from the data set:\n",
        "\n",
        "\n",
        "*   The age of the patients range from 29 to 90. Out of which the majority of the patients are from the age-group 40 to 70. The majority of the patients being females, with a few rare cases of breast cancer in males.\n",
        "*   There are 3 types of breast cancer out of which the majority of the patients are afflicted by Infiltrating Ductal Carcinoma. Followed by Infiltrating Lobular Carcinoma. Mucinous Carcinoma is a rare type of breast cancer.\n",
        "*   There are 3 stages of a tumour:\n",
        "      \n",
        "      Stage I : The cancer is localized to a small area and hasn't spread to lymph nodes or other tissues.\n",
        "      \n",
        "      Stage II: The cancer has grown, but it hasn't spread.\n",
        "      \n",
        "      Stage III: The cancer has grown larger and has possibly spread to lymph nodes or other tissues.\n",
        "\n",
        "      This could even indicate the time elapsed to detect the tumour. From the data set, we can say that most of the patients have detected Stage II tumour which means that they have detected the tumour at a stage where it is not too late to to treat the tumour. But the percentage of patients detecting tumour early on (i.e. Stage I) is lesser than the patients that have been critically affected by the tumour.\n",
        "\n",
        "*   Now to understanding the cause of the tumour we can analyse the proteins constituting the tumour cells as well as the receptors and enzymes due a particular gene.\n",
        "\n",
        "  We can deduce, that for cancer to occur the tumour cells need to have Estrogen and Progesterone receptors need to be present. This is shown by the 100% positivity rate of the patients from these tests. Whereas, HER2 enzyme may or may not be present in the tumour cell depending on whether the patient has the HER2 gene or not. This is shown by the data of majority of patients not testing positive for this test.\n",
        "\n",
        "  Now, for the protein composition, we can conclude that increased amount of protein 2 in the tumour cell causes Ductal and Lobular Carcinoma. Whereas, increase in the composition of protein 3 causes Mucinous Carcinoma.\n",
        "\n",
        "*   Now to deduce the fatality rate of each of the type of breast cancer. We can determine that using the percentage of the patients alive after the treatment of the particular type of tumour. From the heat map we can see that Lobular has the least percentage of deaths, followed by the Ductal Carcinoma. Mucinous Carcinoma has the higest rate of deaths among the three types. Therefore, we can say that Mucinous Carcinoma is the most fatal type of breast cancer.\n",
        "\n",
        "*  We can see that there are various types of surgeries and treatments that can be perfomed on the patients to cure their cancer. From the pie chart we can say that all the different types of surgeries are fairly equally preferred by the doctors(i.e. there isn't a drastic difference between each of the surgery types). But when it comes to the success rates of the surgeries, we can conclude that Lumpectomy has the highest success rate of all the surgery types.\n",
        "\n",
        "\n",
        "\n"
      ]
    },
    {
      "cell_type": "code",
      "source": [],
      "metadata": {
        "id": "rW4BF_JCuOmR"
      },
      "execution_count": null,
      "outputs": []
    }
  ],
  "metadata": {
    "colab": {
      "provenance": [],
      "authorship_tag": "ABX9TyPmkr8SCynyzsBvf6KdLMDN",
      "include_colab_link": true
    },
    "kernelspec": {
      "display_name": "Python 3",
      "name": "python3"
    },
    "language_info": {
      "name": "python"
    }
  },
  "nbformat": 4,
  "nbformat_minor": 0
}